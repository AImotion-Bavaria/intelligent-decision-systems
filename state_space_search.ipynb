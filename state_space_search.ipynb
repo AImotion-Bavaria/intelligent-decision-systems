{
 "cells": [
  {
   "cell_type": "code",
   "execution_count": 1,
   "metadata": {
    "id": "0-Sq7Gx-WhTk"
   },
   "outputs": [],
   "source": [
    "map = {\n",
    "    \"Bayreuth\": [\"Nuremberg\"],\n",
    "    \"Frankfurt\": [\"Mannheim\", \"Würzburg\"],\n",
    "    \"Mannheim\": [\"Frankfurt\", \"Karlsruhe\"],\n",
    "    \"Nuremberg\": [\"Bayreuth\", \"Würzburg\", \"Ingolstadt\", \"Mannheim\", \"Ulm\", \"Passau\"],\n",
    "    \"Würzburg\": [\"Nuremberg\", \"Stuttgart\", \"Ulm\", \"Frankfurt\"],\n",
    "    \"Karlsruhe\": [\"Mannheim\", \"Stuttgart\", \"Basel\"],\n",
    "    \"Basel\": [\"Karlsruhe\", \"Zürich\", \"Bern\"],\n",
    "    \"Bern\": [\"Basel\", \"Zürich\"],\n",
    "    \"Zürich\": [\"Basel\", \"Bern\", \"Memmingen\"],\n",
    "    \"Memmingen\": [\"Zürich\", \"Ulm\", \"Munich\"],\n",
    "    \"Ulm\": [\"Memmingen\", \"Stuttgart\", \"Munich\", \"Würzburg\", \"Nuremberg\"],\n",
    "    \"Stuttgart\": [\"Karlsruhe\", \"Würzburg\", \"Ulm\"],\n",
    "    \"Munich\": [\"Memmingen\", \"Ulm\", \"Ingolstadt\", \"Passau\", \"Rosenheim\"],\n",
    "    \"Ingolstadt\": [\"Munich\", \"Nuremberg\"],\n",
    "    \"Landeck\": [\"Innsbruck\"],\n",
    "    \"Innsbruck\": [\"Landeck\", \"Rosenheim\"],\n",
    "    \"Rosenheim\": [\"Salzburg\", \"Munich\", \"Innsbruck\"],\n",
    "    \"Salzburg\": [\"Rosenheim\", \"Linz\"],\n",
    "    \"Passau\": [\"Linz\", \"Nuremberg\"],\n",
    "    \"Linz\": [\"Salzburg\", \"Passau\"]\n",
    "}"
   ]
  },
  {
   "cell_type": "code",
   "execution_count": 2,
   "metadata": {
    "id": "nQBwGzVKYRJT"
   },
   "outputs": [],
   "source": [
    "def search_plan_bfs(map, start, goal):\n",
    "  # looks for the number of hops it takes to get from start to goal\n",
    "  # e.g., search_plan(map, \"Stuttgart\", \"Ingolstadt\") will return 3\n",
    "\n",
    "  visited = []\n",
    "  frontier = [ (start, 0) ]\n",
    "  raw_frontier = [start]\n",
    "\n",
    "  while len(frontier) > 0 : \n",
    "    # select one of the nodes of the frontier and insert them to visited\n",
    "    next_visited_state, next_hop_dist = frontier.pop(0)\n",
    "    raw_frontier.pop(0)\n",
    "\n",
    "    # which node is visited?\n",
    "    print(\"Visiting ... \", next_visited_state, \" after \", next_hop_dist, \" hops.\")\n",
    "\n",
    "    # test if this is already a goal state\n",
    "    if next_visited_state == goal :\n",
    "      return next_hop_dist\n",
    "\n",
    "    # mark next_visited_state\n",
    "    visited.append(next_visited_state)\n",
    "\n",
    "    # add all immediate neighbors to the frontier\n",
    "    for neighbor in map[next_visited_state]:\n",
    "      if not neighbor in visited and not neighbor in raw_frontier:\n",
    "        frontier.append((neighbor, next_hop_dist + 1))\n",
    "        raw_frontier.append(neighbor)\n",
    "\n",
    "  # no goal states were found :-(\n",
    "  return -1 \n",
    "\n",
    "  "
   ]
  },
  {
   "cell_type": "code",
   "execution_count": 3,
   "metadata": {
    "colab": {
     "base_uri": "https://localhost:8080/"
    },
    "id": "OU-4sM5JcQT5",
    "outputId": "957c02c6-63c6-41c9-8391-683996e13975"
   },
   "outputs": [
    {
     "name": "stdout",
     "output_type": "stream",
     "text": [
      "Visiting ...  Stuttgart  after  0  hops.\n",
      "Visiting ...  Karlsruhe  after  1  hops.\n",
      "Visiting ...  Würzburg  after  1  hops.\n",
      "Visiting ...  Ulm  after  1  hops.\n",
      "Visiting ...  Mannheim  after  2  hops.\n",
      "Visiting ...  Basel  after  2  hops.\n",
      "Visiting ...  Nuremberg  after  2  hops.\n",
      "Visiting ...  Frankfurt  after  2  hops.\n",
      "Visiting ...  Memmingen  after  2  hops.\n",
      "Visiting ...  Munich  after  2  hops.\n",
      "Visiting ...  Zürich  after  3  hops.\n",
      "Visiting ...  Bern  after  3  hops.\n",
      "Visiting ...  Bayreuth  after  3  hops.\n",
      "Visiting ...  Ingolstadt  after  3  hops.\n",
      "3\n"
     ]
    }
   ],
   "source": [
    "hop_distance = search_plan_bfs(map, \"Stuttgart\", \"Ingolstadt\")\n",
    "print(hop_distance)\n"
   ]
  },
  {
   "cell_type": "code",
   "execution_count": null,
   "metadata": {},
   "outputs": [],
   "source": []
  }
 ],
 "metadata": {
  "colab": {
   "name": "state_space_search.ipynb",
   "provenance": []
  },
  "kernelspec": {
   "display_name": "Python 3",
   "language": "python",
   "name": "python3"
  },
  "language_info": {
   "codemirror_mode": {
    "name": "ipython",
    "version": 3
   },
   "file_extension": ".py",
   "mimetype": "text/x-python",
   "name": "python",
   "nbconvert_exporter": "python",
   "pygments_lexer": "ipython3",
   "version": "3.8.8"
  }
 },
 "nbformat": 4,
 "nbformat_minor": 1
}
